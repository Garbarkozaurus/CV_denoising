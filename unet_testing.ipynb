{
 "cells": [
  {
   "cell_type": "code",
   "execution_count": 2,
   "metadata": {},
   "outputs": [],
   "source": [
    "import matplotlib.pyplot as plt\n",
    "import numpy as np\n",
    "import pandas as pd\n",
    "from pathlib import Path\n",
    "import cv2\n",
    "from load_dataset import load_standardised_dataset\n",
    "from image_standardisation import restore_standardised_image\n",
    "import tensorflow as tf\n",
    "from sklearn.metrics import accuracy_score, precision_score, recall_score\n",
    "from tensorflow.keras import layers, losses\n",
    "from tensorflow.keras.models import Model\n",
    "from tensorflow.keras.callbacks import EarlyStopping, ReduceLROnPlateau\n",
    "from tensorflow.keras.utils import plot_model"
   ]
  },
  {
   "cell_type": "code",
   "execution_count": 4,
   "metadata": {},
   "outputs": [],
   "source": [
    "unet = tf.keras.models.load_model(\"unet.h5\", custom_objects={\"kl_divergence\": losses.KLDivergence})"
   ]
  },
  {
   "cell_type": "code",
   "execution_count": 5,
   "metadata": {},
   "outputs": [],
   "source": [
    "np.random.seed(256)\n",
    "path_to_dataset = Path(\"../SIDD_Small_sliced/Data/\")\n",
    "train_x, train_y, test_x, test_y, val_x, val_y = load_standardised_dataset(str(path_to_dataset), 1, 10000, 1)"
   ]
  },
  {
   "cell_type": "code",
   "execution_count": 6,
   "metadata": {},
   "outputs": [
    {
     "name": "stdout",
     "output_type": "stream",
     "text": [
      "79/79 [==============================] - 299s 4s/step - loss: 5.9176e-04 - kullback_leibler_divergence: 0.0048 - MAE: 0.0179\n",
      "[0.0005917611415497959, 0.004827982746064663, 0.01789695955812931]\n"
     ]
    }
   ],
   "source": [
    "results = unet.evaluate(test_x, test_y)\n",
    "print(results)"
   ]
  },
  {
   "cell_type": "code",
   "execution_count": 8,
   "metadata": {},
   "outputs": [
    {
     "name": "stdout",
     "output_type": "stream",
     "text": [
      "For a test set of 10 000 images:\n",
      "Mean Squared Error: 0.0005917611415497959\n",
      "Kullback-Leibler divergence: 0.004827982746064663\n",
      "Mean Absolute Error: 0.004827982746064663\n"
     ]
    }
   ],
   "source": [
    "print(\"For a test set of 10 000 images:\")\n",
    "print(\"Mean Squared Error:\", results[0])\n",
    "print(\"Kullback-Leibler divergence:\", results[1])\n",
    "print(\"Mean Absolute Error:\", results[1])"
   ]
  }
 ],
 "metadata": {
  "kernelspec": {
   "display_name": "Python 3",
   "language": "python",
   "name": "python3"
  },
  "language_info": {
   "codemirror_mode": {
    "name": "ipython",
    "version": 3
   },
   "file_extension": ".py",
   "mimetype": "text/x-python",
   "name": "python",
   "nbconvert_exporter": "python",
   "pygments_lexer": "ipython3",
   "version": "3.8.10"
  },
  "orig_nbformat": 4,
  "vscode": {
   "interpreter": {
    "hash": "916dbcbb3f70747c44a77c7bcd40155683ae19c65e1c03b4aa3499c5328201f1"
   }
  }
 },
 "nbformat": 4,
 "nbformat_minor": 2
}
